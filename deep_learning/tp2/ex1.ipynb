{
 "cells": [
  {
   "cell_type": "code",
   "execution_count": 1,
   "id": "a3161725",
   "metadata": {},
   "outputs": [
    {
     "name": "stderr",
     "output_type": "stream",
     "text": [
      "c:\\Users\\natha\\Documents\\Git\\5th-year-polytech\\deep_learning\\env\\Lib\\site-packages\\tqdm\\auto.py:21: TqdmWarning: IProgress not found. Please update jupyter and ipywidgets. See https://ipywidgets.readthedocs.io/en/stable/user_install.html\n",
      "  from .autonotebook import tqdm as notebook_tqdm\n"
     ]
    }
   ],
   "source": [
    "import numpy as np\n",
    "import optuna\n",
    "SEED = 42\n",
    "\n",
    "import random\n",
    "import tensorflow as tf\n",
    "\n",
    "import os\n",
    "def init_seed(s):\n",
    "    seed = s\n",
    "    os.environ[\"PYTHONHASHSEED\"] = str(seed)\n",
    "    os.environ[\"TF_DETERMINSTIC_OPS\"] = \"1\"\n",
    "    os.environ[\"TF_CUDNN_DETERMINSTIC\"] = \"1\"\n",
    "    np.random.seed(seed)\n",
    "    tf.config.experimental.enable_op_determinism()\n",
    "    tf.random.set_seed(seed)\n",
    "    tf.keras.utils.set_random_seed(seed)"
   ]
  },
  {
   "cell_type": "code",
   "execution_count": 2,
   "id": "20aa231f",
   "metadata": {},
   "outputs": [],
   "source": [
    "X_train, X_val, X_test = np.random.uniform(0, 1, 1000), np.random.uniform(0, 1, 200), np.random.uniform(0, 1, 200)\n",
    "y_train, y_val, y_test = np.sin(8*np.pi*X_train), np.sin(8*np.pi*X_val), np.sin(8*np.pi*X_test)"
   ]
  },
  {
   "cell_type": "code",
   "execution_count": 3,
   "id": "c17f6d19",
   "metadata": {},
   "outputs": [],
   "source": [
    "from keras import layers, Sequential, Input\n",
    "from keras.optimizers import Adam\n",
    "from keras.callbacks import EarlyStopping, ModelCheckpoint"
   ]
  },
  {
   "cell_type": "code",
   "execution_count": null,
   "id": "3a92f150",
   "metadata": {},
   "outputs": [
    {
     "name": "stderr",
     "output_type": "stream",
     "text": [
      "[I 2025-09-15 10:01:08,717] A new study created in memory with name: no-name-eea9a8f7-18f4-4889-9145-4c1d6c52c348\n",
      "[I 2025-09-15 10:01:23,688] Trial 0 finished with value: 0.18495269119739532 and parameters: {'unit1': 42, 'unit2': 113, 'unit3': 165, 'lr': 0.048061239167815024, 'activation': 'selu'}. Best is trial 0 with value: 0.18495269119739532.\n",
      "[I 2025-09-15 10:01:37,018] Trial 1 finished with value: 0.10699518024921417 and parameters: {'unit1': 40, 'unit2': 105, 'unit3': 250, 'lr': 0.014138292802873683, 'activation': 'selu'}. Best is trial 1 with value: 0.10699518024921417.\n",
      "[I 2025-09-15 10:01:51,561] Trial 2 finished with value: 0.029118947684764862 and parameters: {'unit1': 38, 'unit2': 113, 'unit3': 156, 'lr': 0.00978915015296478, 'activation': 'selu'}. Best is trial 2 with value: 0.029118947684764862.\n",
      "[I 2025-09-15 10:01:55,403] Trial 3 finished with value: 0.490011990070343 and parameters: {'unit1': 39, 'unit2': 93, 'unit3': 142, 'lr': 0.0795639624361088, 'activation': 'relu'}. Best is trial 2 with value: 0.029118947684764862.\n",
      "[I 2025-09-15 10:01:58,704] Trial 4 finished with value: 0.4900064766407013 and parameters: {'unit1': 45, 'unit2': 71, 'unit3': 134, 'lr': 0.07698868202857119, 'activation': 'relu'}. Best is trial 2 with value: 0.029118947684764862.\n",
      "[I 2025-09-15 10:02:03,681] Trial 5 finished with value: 0.4899994730949402 and parameters: {'unit1': 55, 'unit2': 73, 'unit3': 184, 'lr': 0.08542377291681277, 'activation': 'relu'}. Best is trial 2 with value: 0.029118947684764862.\n",
      "[I 2025-09-15 10:02:10,270] Trial 6 finished with value: 0.4295206069946289 and parameters: {'unit1': 49, 'unit2': 84, 'unit3': 247, 'lr': 0.060814567450888556, 'activation': 'selu'}. Best is trial 2 with value: 0.029118947684764862.\n",
      "[I 2025-09-15 10:02:23,906] Trial 7 finished with value: 0.23795916140079498 and parameters: {'unit1': 35, 'unit2': 75, 'unit3': 220, 'lr': 0.05958325358463876, 'activation': 'selu'}. Best is trial 2 with value: 0.029118947684764862.\n"
     ]
    }
   ],
   "source": [
    "def objectif(trial):\n",
    "    init_seed(2025)\n",
    "    # Hyperparameters\n",
    "    n_unit1 = trial.suggest_int(\"unit1\", 32, 64)\n",
    "    n_unit2 = trial.suggest_int(\"unit2\", 64, 128)\n",
    "    n_unit3 = trial.suggest_int(\"unit3\", 128, 256)\n",
    "    learning_rate = trial.suggest_float(\"lr\", 10**-4, 10**-1)\n",
    "    activation = trial.suggest_categorical(\"activation\", [\"relu\", \"selu\"])\n",
    "\n",
    "\n",
    "    # Create Model\n",
    "\n",
    "    patience = 20\n",
    "\n",
    "    callbacks = [\n",
    "        EarlyStopping(monitor = \"val_mse\", patience = patience),\n",
    "\n",
    "    ]\n",
    "\n",
    "    model = Sequential()\n",
    "    model.add(Input(shape=(1, )))\n",
    "    model.add(layers.Dense(n_unit1, activation=activation))\n",
    "    model.add(layers.Dense(n_unit2, activation=activation))\n",
    "    model.add(layers.Dense(n_unit3, activation=activation))\n",
    "    model.add(layers.Dense(1))\n",
    "    model.compile(optimizer=Adam(learning_rate=learning_rate), loss = \"mse\", metrics = [\"mse\"])\n",
    "    history = model.fit(X_train, y_train, batch_size=128, epochs=300, validation_data=(X_val, y_val), verbose = 0, callbacks=callbacks)\n",
    "    epoch = len(history.history[\"val_mse\"])\n",
    "    val_mse = history.history[\"val_mse\"][-1 if epoch == 300 else -patience - 1]\n",
    "    return val_mse\n",
    "\n",
    "study = optuna.create_study(direction = \"minimize\")\n",
    "study.optimize(objectif, n_trials = 10)"
   ]
  },
  {
   "cell_type": "code",
   "execution_count": null,
   "id": "e46160dd",
   "metadata": {},
   "outputs": [
    {
     "data": {
      "text/plain": [
       "{'unit1': 61,\n",
       " 'unit2': 121,\n",
       " 'unit3': 245,\n",
       " 'lr': 0.04637553531700971,\n",
       " 'activation': 'selu'}"
      ]
     },
     "execution_count": 5,
     "metadata": {},
     "output_type": "execute_result"
    }
   ],
   "source": [
    "study.best_params"
   ]
  },
  {
   "cell_type": "code",
   "execution_count": null,
   "id": "b790de63",
   "metadata": {},
   "outputs": [],
   "source": [
    "patience = 20\n",
    "init_seed(2025)\n",
    "callbacks = [\n",
    "    EarlyStopping(monitor = \"val_mse\", patience = patience),\n",
    "    ModelCheckpoint(\n",
    "        filepath = \"my_best_model\" + \".keras\",\n",
    "        monitor = \"val_mse\",\n",
    "        mode = \"min\",\n",
    "        save_best_only = True,\n",
    "        verbose = 0\n",
    "    )\n",
    "]\n",
    "\n",
    "model = Sequential()\n",
    "model.add(Input(shape=(1, )))\n",
    "model.add(layers.Dense(study.best_params['unit1'], activation=study.best_params['activation']))\n",
    "model.add(layers.Dense(study.best_params['unit2'], activation=study.best_params['activation']))\n",
    "model.add(layers.Dense(study.best_params['unit3'], activation=study.best_params['activation']))\n",
    "model.add(layers.Dense(1))\n",
    "model.compile(optimizer=Adam(learning_rate=study.best_params['lr']), loss = \"val_mse\", metrics = [\"val_mse\"])\n",
    "history = model.fit(X_train, y_train, batch_size=128, epochs=300, validation_data=(X_val, y_val), verbose = 0, callbacks=callbacks)"
   ]
  },
  {
   "cell_type": "code",
   "execution_count": null,
   "id": "9fce4953",
   "metadata": {},
   "outputs": [
    {
     "name": "stdout",
     "output_type": "stream",
     "text": [
      "\u001b[1m7/7\u001b[0m \u001b[32m━━━━━━━━━━━━━━━━━━━━\u001b[0m\u001b[37m\u001b[0m \u001b[1m0s\u001b[0m 8ms/step \n"
     ]
    }
   ],
   "source": [
    "y_pred = model.predict(X_test)"
   ]
  },
  {
   "cell_type": "code",
   "execution_count": null,
   "id": "2bdaf59d",
   "metadata": {},
   "outputs": [
    {
     "data": {
      "text/plain": [
       "<matplotlib.collections.PathCollection at 0x2900152c9e0>"
      ]
     },
     "execution_count": 8,
     "metadata": {},
     "output_type": "execute_result"
    },
    {
     "data": {
      "image/png": "[encoded data removed]",
      "text/plain": [
       "<Figure size 640x480 with 1 Axes>"
      ]
     },
     "metadata": {},
     "output_type": "display_data"
    }
   ],
   "source": [
    "import matplotlib.pyplot as plt\n",
    "plt.scatter(x = X_test, y = y_pred, color = \"blue\")\n",
    "plt.scatter(x = X_test, y = y_test, color = \"red\")"
   ]
  },
  {
   "cell_type": "code",
   "execution_count": null,
   "id": "56e3cd42",
   "metadata": {},
   "outputs": [],
   "source": []
  }
 ],
 "metadata": {
  "kernelspec": {
   "display_name": "env",
   "language": "python",
   "name": "python3"
  },
  "language_info": {
   "codemirror_mode": {
    "name": "ipython",
    "version": 3
   },
   "file_extension": ".py",
   "mimetype": "text/x-python",
   "name": "python",
   "nbconvert_exporter": "python",
   "pygments_lexer": "ipython3",
   "version": "3.12.6"
  }
 },
 "nbformat": 4,
 "nbformat_minor": 5
}
