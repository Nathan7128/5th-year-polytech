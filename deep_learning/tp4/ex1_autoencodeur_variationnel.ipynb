{
 "cells": [
  {
   "cell_type": "markdown",
   "id": "8fdf5557",
   "metadata": {},
   "source": [
    "# Dataset"
   ]
  },
  {
   "cell_type": "code",
   "execution_count": null,
   "id": "a71b5ad0",
   "metadata": {},
   "outputs": [],
   "source": [
    "from keras.datasets import mnist\n",
    "(X, y), (X_test, y_test) = mnist.load_data(path=\"mnist.npz\")"
   ]
  },
  {
   "cell_type": "code",
   "execution_count": null,
   "id": "a55a4cba",
   "metadata": {},
   "outputs": [
    {
     "data": {
      "text/plain": [
       "((60000, 28, 28), (60000,), (10000, 28, 28), (10000,))"
      ]
     },
     "metadata": {},
     "output_type": "display_data"
    }
   ],
   "source": [
    "X.shape, y.shape, X_test.shape, y_test.shape"
   ]
  },
  {
   "cell_type": "code",
   "execution_count": null,
   "id": "862a5be2",
   "metadata": {},
   "outputs": [],
   "source": [
    "X, X_test = X/255, X_test/255"
   ]
  },
  {
   "cell_type": "code",
   "execution_count": null,
   "id": "e0921800",
   "metadata": {},
   "outputs": [],
   "source": [
    "X_train, y_train = X[:50000], y[:50000]\n",
    "X_val, y_val = X[50000:], y[50000:]"
   ]
  },
  {
   "cell_type": "markdown",
   "id": "b020019a",
   "metadata": {},
   "source": [
    "# Model"
   ]
  },
  {
   "cell_type": "code",
   "execution_count": null,
   "id": "d5215351",
   "metadata": {},
   "outputs": [],
   "source": [
    "from keras import Model, Input\n",
    "from keras.layers import Dense, Flatten, Reshape\n",
    "from keras import activations, losses, metrics\n",
    "from keras.optimizers import Adam"
   ]
  },
  {
   "cell_type": "code",
   "execution_count": null,
   "id": "bba4a54d",
   "metadata": {},
   "outputs": [],
   "source": [
    "# Encodeur\n",
    "encodeur_input = Input(shape = (28, 28))\n",
    "x0 = Flatten()(encodeur_input)\n",
    "x1 = Dense(128, activation = activations.relu)(x0)\n",
    "x2 = Dense(8, activation = activations.relu)(x1)\n",
    "mu = Dense(2, activation=activations.relu)(x2)\n",
    "sigma = Dense(2, activation=activations.relu)(x2)\n",
    "z = mu + sigma\n",
    "encodeur = Model(inputs = encodeur_input, outputs = [z, mu, sigma])\n",
    "\n",
    "# Decodeur\n",
    "decodeur_inputs = Input(shape = (2, ))\n",
    "x3 = Dense(8, activation = activations.relu)(decodeur_inputs)\n",
    "x4 = Dense(128, activation = activations.relu)(x3)\n",
    "x5 = Dense(784, activation = activations.sigmoid)(x4)\n",
    "decodeur_outputs = Reshape(target_shape=(28, 28))(x5)\n",
    "decodeur = Model(inputs = decodeur_inputs, outputs = decodeur_outputs)\n",
    "\n",
    "# Autoencodeur\n",
    "autoencodeur_variationnel = Model(inputs = encodeur_input, outputs = [decodeur(encodeur(encodeur_input)), mu, sigma])\n",
    "\n",
    "decodeur = Model(decodeur_inputs, x5)"
   ]
  },
  {
   "cell_type": "code",
   "execution_count": null,
   "id": "66838dde",
   "metadata": {},
   "outputs": [],
   "source": []
  },
  {
   "cell_type": "code",
   "execution_count": null,
   "id": "3b671f23",
   "metadata": {},
   "outputs": [],
   "source": []
  }
 ],
 "metadata": {
  "language_info": {
   "name": "python"
  }
 },
 "nbformat": 4,
 "nbformat_minor": 5
}
