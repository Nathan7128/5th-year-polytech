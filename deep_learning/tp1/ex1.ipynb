{
 "cells": [
  {
   "cell_type": "code",
   "execution_count": 1,
   "id": "ff6d4e38",
   "metadata": {},
   "outputs": [
    {
     "name": "stderr",
     "output_type": "stream",
     "text": [
      "c:\\Users\\natha\\Documents\\Git\\5th-year-polytech\\deep_learning\\env\\Lib\\site-packages\\tqdm\\auto.py:21: TqdmWarning: IProgress not found. Please update jupyter and ipywidgets. See https://ipywidgets.readthedocs.io/en/stable/user_install.html\n",
      "  from .autonotebook import tqdm as notebook_tqdm\n"
     ]
    }
   ],
   "source": [
    "import numpy as np\n",
    "import optuna"
   ]
  },
  {
   "cell_type": "code",
   "execution_count": 2,
   "id": "258ca9ea",
   "metadata": {},
   "outputs": [],
   "source": [
    "def objectif(trial):\n",
    "    x = trial.suggest_float(\"x\", 0, 1)\n",
    "    y = np.sin(2*np.pi*x)\n",
    "    return y"
   ]
  },
  {
   "cell_type": "code",
   "execution_count": 3,
   "id": "78ada5c3",
   "metadata": {},
   "outputs": [
    {
     "name": "stderr",
     "output_type": "stream",
     "text": [
      "[I 2025-09-10 10:30:57,050] A new study created in memory with name: no-name-47025311-26d3-4fb4-ac38-d9d7867042a4\n"
     ]
    }
   ],
   "source": [
    "study = optuna.create_study(direction=\"minimize\")"
   ]
  },
  {
   "cell_type": "code",
   "execution_count": 4,
   "id": "4f3bb482",
   "metadata": {},
   "outputs": [
    {
     "name": "stderr",
     "output_type": "stream",
     "text": [
      "[I 2025-09-10 10:30:57,071] Trial 0 finished with value: 0.32026818818546604 and parameters: {'x': 0.4481134873881216}. Best is trial 0 with value: 0.32026818818546604.\n",
      "[I 2025-09-10 10:30:57,073] Trial 1 finished with value: -0.6521131377406146 and parameters: {'x': 0.6130586486673315}. Best is trial 1 with value: -0.6521131377406146.\n",
      "[I 2025-09-10 10:30:57,074] Trial 2 finished with value: 0.9878963993408141 and parameters: {'x': 0.22521257336373934}. Best is trial 1 with value: -0.6521131377406146.\n",
      "[I 2025-09-10 10:30:57,075] Trial 3 finished with value: 0.7638077818071426 and parameters: {'x': 0.3616637685748325}. Best is trial 1 with value: -0.6521131377406146.\n",
      "[I 2025-09-10 10:30:57,075] Trial 4 finished with value: 0.7731692234575821 and parameters: {'x': 0.35933516209431715}. Best is trial 1 with value: -0.6521131377406146.\n",
      "[I 2025-09-10 10:30:57,076] Trial 5 finished with value: 0.5538641172893762 and parameters: {'x': 0.4065763511339996}. Best is trial 1 with value: -0.6521131377406146.\n",
      "[I 2025-09-10 10:30:57,076] Trial 6 finished with value: 0.8987711555403413 and parameters: {'x': 0.17776946750817169}. Best is trial 1 with value: -0.6521131377406146.\n",
      "[I 2025-09-10 10:30:57,077] Trial 7 finished with value: 0.9283411264297504 and parameters: {'x': 0.31061753880733156}. Best is trial 1 with value: -0.6521131377406146.\n",
      "[I 2025-09-10 10:30:57,078] Trial 8 finished with value: -0.5574507912873278 and parameters: {'x': 0.9058897620609782}. Best is trial 1 with value: -0.6521131377406146.\n",
      "[I 2025-09-10 10:30:57,078] Trial 9 finished with value: -0.2997566411861223 and parameters: {'x': 0.951547258276316}. Best is trial 1 with value: -0.6521131377406146.\n",
      "[I 2025-09-10 10:30:57,082] Trial 10 finished with value: -0.9433676978728305 and parameters: {'x': 0.6961806501050787}. Best is trial 10 with value: -0.9433676978728305.\n",
      "[I 2025-09-10 10:30:57,084] Trial 11 finished with value: -0.90820970153673 and parameters: {'x': 0.6812752950994235}. Best is trial 10 with value: -0.9433676978728305.\n",
      "[I 2025-09-10 10:30:57,085] Trial 12 finished with value: -0.899513124991443 and parameters: {'x': 0.6780392869612}. Best is trial 10 with value: -0.9433676978728305.\n",
      "[I 2025-09-10 10:30:57,087] Trial 13 finished with value: -0.9999345125055747 and parameters: {'x': 0.7518214476209057}. Best is trial 13 with value: -0.9999345125055747.\n",
      "[I 2025-09-10 10:30:57,089] Trial 14 finished with value: -0.9479774927581525 and parameters: {'x': 0.801562236333085}. Best is trial 13 with value: -0.9999345125055747.\n",
      "[I 2025-09-10 10:30:57,091] Trial 15 finished with value: -0.9129389295102371 and parameters: {'x': 0.8169036034396859}. Best is trial 13 with value: -0.9999345125055747.\n",
      "[I 2025-09-10 10:30:57,092] Trial 16 finished with value: 0.0015929738752243898 and parameters: {'x': 0.00025352977368303664}. Best is trial 13 with value: -0.9999345125055747.\n",
      "[I 2025-09-10 10:30:57,095] Trial 17 finished with value: -0.876156604494057 and parameters: {'x': 0.8300495657921889}. Best is trial 13 with value: -0.9999345125055747.\n",
      "[I 2025-09-10 10:30:57,097] Trial 18 finished with value: -0.33223211120222557 and parameters: {'x': 0.5539008657630693}. Best is trial 13 with value: -0.9999345125055747.\n",
      "[I 2025-09-10 10:30:57,099] Trial 19 finished with value: -0.011268522692386266 and parameters: {'x': 0.9982065209549216}. Best is trial 13 with value: -0.9999345125055747.\n",
      "[I 2025-09-10 10:30:57,101] Trial 20 finished with value: -0.9261169505505101 and parameters: {'x': 0.8115628088933327}. Best is trial 13 with value: -0.9999345125055747.\n",
      "[I 2025-09-10 10:30:57,104] Trial 21 finished with value: -0.9630930394297122 and parameters: {'x': 0.7066255372855907}. Best is trial 13 with value: -0.9999345125055747.\n",
      "[I 2025-09-10 10:30:57,106] Trial 22 finished with value: -0.9999088829160963 and parameters: {'x': 0.7521485147189131}. Best is trial 13 with value: -0.9999345125055747.\n",
      "[I 2025-09-10 10:30:57,108] Trial 23 finished with value: -0.24654546320901444 and parameters: {'x': 0.5396477339122134}. Best is trial 13 with value: -0.9999345125055747.\n",
      "[I 2025-09-10 10:30:57,109] Trial 24 finished with value: -0.9750215672983018 and parameters: {'x': 0.7143527616568791}. Best is trial 13 with value: -0.9999345125055747.\n",
      "[I 2025-09-10 10:30:57,114] Trial 25 finished with value: -0.6819539318985881 and parameters: {'x': 0.8805652236021108}. Best is trial 13 with value: -0.9999345125055747.\n",
      "[I 2025-09-10 10:30:57,115] Trial 26 finished with value: -0.9993598248580479 and parameters: {'x': 0.7556951832695881}. Best is trial 13 with value: -0.9999345125055747.\n",
      "[I 2025-09-10 10:30:57,117] Trial 27 finished with value: -0.6340786044388499 and parameters: {'x': 0.6093102214815523}. Best is trial 13 with value: -0.9999345125055747.\n",
      "[I 2025-09-10 10:30:57,119] Trial 28 finished with value: -0.6425561428368602 and parameters: {'x': 0.6110630271843219}. Best is trial 13 with value: -0.9999345125055747.\n",
      "[I 2025-09-10 10:30:57,119] Trial 29 finished with value: -0.9999882794053463 and parameters: {'x': 0.7492294330518688}. Best is trial 29 with value: -0.9999882794053463.\n",
      "[I 2025-09-10 10:30:57,123] Trial 30 finished with value: 0.16913673975940957 and parameters: {'x': 0.472951024761754}. Best is trial 29 with value: -0.9999882794053463.\n",
      "[I 2025-09-10 10:30:57,126] Trial 31 finished with value: -0.991042258963299 and parameters: {'x': 0.7713186208709834}. Best is trial 29 with value: -0.9999882794053463.\n",
      "[I 2025-09-10 10:30:57,127] Trial 32 finished with value: -0.9985508702113151 and parameters: {'x': 0.7585692187852624}. Best is trial 29 with value: -0.9999882794053463.\n",
      "[I 2025-09-10 10:30:57,130] Trial 33 finished with value: -0.6372141695563198 and parameters: {'x': 0.8900433349600668}. Best is trial 29 with value: -0.9999882794053463.\n",
      "[I 2025-09-10 10:30:57,132] Trial 34 finished with value: -0.2960478981967636 and parameters: {'x': 0.5478344015800996}. Best is trial 29 with value: -0.9999882794053463.\n",
      "[I 2025-09-10 10:30:57,134] Trial 35 finished with value: -0.7440471006894651 and parameters: {'x': 0.6335481035011287}. Best is trial 29 with value: -0.9999882794053463.\n",
      "[I 2025-09-10 10:30:57,137] Trial 36 finished with value: -0.9960462611364793 and parameters: {'x': 0.735842638726524}. Best is trial 29 with value: -0.9999882794053463.\n",
      "[I 2025-09-10 10:30:57,139] Trial 37 finished with value: -0.8196509362448228 and parameters: {'x': 0.8470837044887836}. Best is trial 29 with value: -0.9999882794053463.\n",
      "[I 2025-09-10 10:30:57,141] Trial 38 finished with value: -0.31678870756507127 and parameters: {'x': 0.9486976937234891}. Best is trial 29 with value: -0.9999882794053463.\n",
      "[I 2025-09-10 10:30:57,144] Trial 39 finished with value: -0.8277823648382575 and parameters: {'x': 0.655198896214844}. Best is trial 29 with value: -0.9999882794053463.\n",
      "[I 2025-09-10 10:30:57,146] Trial 40 finished with value: -0.996435643681585 and parameters: {'x': 0.7634417176491385}. Best is trial 29 with value: -0.9999882794053463.\n",
      "[I 2025-09-10 10:30:57,146] Trial 41 finished with value: -0.9932347800397041 and parameters: {'x': 0.7685234226416932}. Best is trial 29 with value: -0.9999882794053463.\n",
      "[I 2025-09-10 10:30:57,150] Trial 42 finished with value: -0.9986437003935171 and parameters: {'x': 0.7417098565467785}. Best is trial 29 with value: -0.9999882794053463.\n",
      "[I 2025-09-10 10:30:57,151] Trial 43 finished with value: -0.4787939840582987 and parameters: {'x': 0.5794629577782762}. Best is trial 29 with value: -0.9999882794053463.\n",
      "[I 2025-09-10 10:30:57,151] Trial 44 finished with value: 0.39901614916427053 and parameters: {'x': 0.43467586775344846}. Best is trial 29 with value: -0.9999882794053463.\n",
      "[I 2025-09-10 10:30:57,151] Trial 45 finished with value: -0.7972090746058308 and parameters: {'x': 0.8531544193245004}. Best is trial 29 with value: -0.9999882794053463.\n",
      "[I 2025-09-10 10:30:57,157] Trial 46 finished with value: -0.37367267657523207 and parameters: {'x': 0.9390491669972113}. Best is trial 29 with value: -0.9999882794053463.\n",
      "[I 2025-09-10 10:30:57,158] Trial 47 finished with value: -0.8399698438870197 and parameters: {'x': 0.6587137092979805}. Best is trial 29 with value: -0.9999882794053463.\n",
      "[I 2025-09-10 10:30:57,160] Trial 48 finished with value: 0.9334931530228342 and parameters: {'x': 0.30837208010674816}. Best is trial 29 with value: -0.9999882794053463.\n",
      "[I 2025-09-10 10:30:57,162] Trial 49 finished with value: -0.0062019129786834905 and parameters: {'x': 0.5009870714349929}. Best is trial 29 with value: -0.9999882794053463.\n",
      "[I 2025-09-10 10:30:57,165] Trial 50 finished with value: -0.9899891381961666 and parameters: {'x': 0.7274610419882656}. Best is trial 29 with value: -0.9999882794053463.\n",
      "[I 2025-09-10 10:30:57,166] Trial 51 finished with value: -0.9827797316425528 and parameters: {'x': 0.7795787819789316}. Best is trial 29 with value: -0.9999882794053463.\n",
      "[I 2025-09-10 10:30:57,169] Trial 52 finished with value: -0.9991132918429944 and parameters: {'x': 0.7567028203195816}. Best is trial 29 with value: -0.9999882794053463.\n",
      "[I 2025-09-10 10:30:57,170] Trial 53 finished with value: -0.9353734822280056 and parameters: {'x': 0.6924682432986171}. Best is trial 29 with value: -0.9999882794053463.\n",
      "[I 2025-09-10 10:30:57,170] Trial 54 finished with value: -0.9456048028198083 and parameters: {'x': 0.8027356091247475}. Best is trial 29 with value: -0.9999882794053463.\n",
      "[I 2025-09-10 10:30:57,170] Trial 55 finished with value: -0.8165052955838368 and parameters: {'x': 0.8479542356611469}. Best is trial 29 with value: -0.9999882794053463.\n",
      "[I 2025-09-10 10:30:57,170] Trial 56 finished with value: -0.02892329898723718 and parameters: {'x': 0.9953960719352292}. Best is trial 29 with value: -0.9999882794053463.\n",
      "[I 2025-09-10 10:30:57,178] Trial 57 finished with value: -0.9845369931779419 and parameters: {'x': 0.7219751484121889}. Best is trial 29 with value: -0.9999882794053463.\n",
      "[I 2025-09-10 10:30:57,178] Trial 58 finished with value: -0.6771709812284511 and parameters: {'x': 0.8816028691012869}. Best is trial 29 with value: -0.9999882794053463.\n",
      "[I 2025-09-10 10:30:57,178] Trial 59 finished with value: -0.942357858812353 and parameters: {'x': 0.8043017371594066}. Best is trial 29 with value: -0.9999882794053463.\n",
      "[I 2025-09-10 10:30:57,184] Trial 60 finished with value: 0.7885037221476201 and parameters: {'x': 0.1445719473621529}. Best is trial 29 with value: -0.9999882794053463.\n",
      "[I 2025-09-10 10:30:57,186] Trial 61 finished with value: -0.9997374519846379 and parameters: {'x': 0.7463528888283237}. Best is trial 29 with value: -0.9999882794053463.\n",
      "[I 2025-09-10 10:30:57,188] Trial 62 finished with value: -0.8863064107235585 and parameters: {'x': 0.6733686662844335}. Best is trial 29 with value: -0.9999882794053463.\n",
      "[I 2025-09-10 10:30:57,191] Trial 63 finished with value: -0.5058713112489867 and parameters: {'x': 0.5844144695578775}. Best is trial 29 with value: -0.9999882794053463.\n",
      "[I 2025-09-10 10:30:57,193] Trial 64 finished with value: -0.9951052983910684 and parameters: {'x': 0.7342465548729642}. Best is trial 29 with value: -0.9999882794053463.\n",
      "[I 2025-09-10 10:30:57,195] Trial 65 finished with value: -0.799589763357599 and parameters: {'x': 0.6474748485492317}. Best is trial 29 with value: -0.9999882794053463.\n",
      "[I 2025-09-10 10:30:57,197] Trial 66 finished with value: -0.48432564491856184 and parameters: {'x': 0.9195325001553144}. Best is trial 29 with value: -0.9999882794053463.\n",
      "[I 2025-09-10 10:30:57,200] Trial 67 finished with value: -0.9468080027423142 and parameters: {'x': 0.6978562316126163}. Best is trial 29 with value: -0.9999882794053463.\n",
      "[I 2025-09-10 10:30:57,200] Trial 68 finished with value: -0.8639397134771643 and parameters: {'x': 0.8339948499072637}. Best is trial 29 with value: -0.9999882794053463.\n",
      "[I 2025-09-10 10:30:57,200] Trial 69 finished with value: -0.966462658539525 and parameters: {'x': 0.7913352658549451}. Best is trial 29 with value: -0.9999882794053463.\n",
      "[I 2025-09-10 10:30:57,205] Trial 70 finished with value: -0.9999460249868602 and parameters: {'x': 0.7516536114137964}. Best is trial 29 with value: -0.9999882794053463.\n",
      "[I 2025-09-10 10:30:57,207] Trial 71 finished with value: -0.9999935280664228 and parameters: {'x': 0.7494273986212813}. Best is trial 71 with value: -0.9999935280664228.\n",
      "[I 2025-09-10 10:30:57,209] Trial 72 finished with value: -0.7284705942124492 and parameters: {'x': 0.6298842537319869}. Best is trial 71 with value: -0.9999935280664228.\n",
      "[I 2025-09-10 10:30:57,210] Trial 73 finished with value: -0.9999683154031125 and parameters: {'x': 0.751266952606251}. Best is trial 71 with value: -0.9999935280664228.\n",
      "[I 2025-09-10 10:30:57,213] Trial 74 finished with value: -0.9522880334931427 and parameters: {'x': 0.7006382159646081}. Best is trial 71 with value: -0.9999935280664228.\n",
      "[I 2025-09-10 10:30:57,215] Trial 75 finished with value: -0.9830538761608594 and parameters: {'x': 0.7793417175664741}. Best is trial 71 with value: -0.9999935280664228.\n",
      "[I 2025-09-10 10:30:57,217] Trial 76 finished with value: -0.9169710616203295 and parameters: {'x': 0.8153132968247737}. Best is trial 71 with value: -0.9999935280664228.\n",
      "[I 2025-09-10 10:30:57,219] Trial 77 finished with value: -0.8966414463123396 and parameters: {'x': 0.6770001472097398}. Best is trial 71 with value: -0.9999935280664228.\n",
      "[I 2025-09-10 10:30:57,219] Trial 78 finished with value: -0.7945659856619317 and parameters: {'x': 0.8538492191584441}. Best is trial 71 with value: -0.9999935280664228.\n",
      "[I 2025-09-10 10:30:57,224] Trial 79 finished with value: -0.9999980699333518 and parameters: {'x': 0.7503126952991355}. Best is trial 79 with value: -0.9999980699333518.\n",
      "[I 2025-09-10 10:30:57,227] Trial 80 finished with value: -0.9700711340071221 and parameters: {'x': 0.7109636309764715}. Best is trial 79 with value: -0.9999980699333518.\n",
      "[I 2025-09-10 10:30:57,229] Trial 81 finished with value: -0.9979961970647726 and parameters: {'x': 0.7600770909993005}. Best is trial 79 with value: -0.9999980699333518.\n",
      "[I 2025-09-10 10:30:57,233] Trial 82 finished with value: -0.9994431220563238 and parameters: {'x': 0.7446882785270601}. Best is trial 79 with value: -0.9999980699333518.\n",
      "[I 2025-09-10 10:30:57,235] Trial 83 finished with value: -0.9899590501707898 and parameters: {'x': 0.7274271397463498}. Best is trial 79 with value: -0.9999980699333518.\n",
      "[I 2025-09-10 10:30:57,237] Trial 84 finished with value: -0.9633241767610736 and parameters: {'x': 0.7932375844715397}. Best is trial 79 with value: -0.9999980699333518.\n",
      "[I 2025-09-10 10:30:57,237] Trial 85 finished with value: -0.9998227662501912 and parameters: {'x': 0.7470034967225195}. Best is trial 79 with value: -0.9999980699333518.\n",
      "[I 2025-09-10 10:30:57,241] Trial 86 finished with value: -0.8931477354421381 and parameters: {'x': 0.6757541515779754}. Best is trial 79 with value: -0.9999980699333518.\n",
      "[I 2025-09-10 10:30:57,243] Trial 87 finished with value: -0.878745310904877 and parameters: {'x': 0.8291906126201781}. Best is trial 79 with value: -0.9999980699333518.\n",
      "[I 2025-09-10 10:30:57,244] Trial 88 finished with value: -0.755840578815021 and parameters: {'x': 0.8636142444731699}. Best is trial 79 with value: -0.9999980699333518.\n",
      "[I 2025-09-10 10:30:57,246] Trial 89 finished with value: -0.5975357520393992 and parameters: {'x': 0.6019267000106424}. Best is trial 79 with value: -0.9999980699333518.\n",
      "[I 2025-09-10 10:30:57,247] Trial 90 finished with value: -0.7629018189890202 and parameters: {'x': 0.6381130222777638}. Best is trial 79 with value: -0.9999980699333518.\n",
      "[I 2025-09-10 10:30:57,247] Trial 91 finished with value: -0.9999327587631023 and parameters: {'x': 0.7518456757658675}. Best is trial 79 with value: -0.9999980699333518.\n",
      "[I 2025-09-10 10:30:57,247] Trial 92 finished with value: -0.9752743228138199 and parameters: {'x': 0.7854656695540815}. Best is trial 79 with value: -0.9999980699333518.\n",
      "[I 2025-09-10 10:30:57,255] Trial 93 finished with value: -0.9998805125836318 and parameters: {'x': 0.7475396293406957}. Best is trial 79 with value: -0.9999980699333518.\n",
      "[I 2025-09-10 10:30:57,257] Trial 94 finished with value: -0.921073713924162 and parameters: {'x': 0.8136567784149904}. Best is trial 79 with value: -0.9999980699333518.\n",
      "[I 2025-09-10 10:30:57,258] Trial 95 finished with value: -0.5827813925322803 and parameters: {'x': 0.9009821952554583}. Best is trial 79 with value: -0.9999980699333518.\n",
      "[I 2025-09-10 10:30:57,261] Trial 96 finished with value: -0.9845931791516288 and parameters: {'x': 0.7220262416522253}. Best is trial 79 with value: -0.9999980699333518.\n",
      "[I 2025-09-10 10:30:57,263] Trial 97 finished with value: -0.9925694808027774 and parameters: {'x': 0.7694139540015811}. Best is trial 79 with value: -0.9999980699333518.\n",
      "[I 2025-09-10 10:30:57,265] Trial 98 finished with value: -0.8457541275738754 and parameters: {'x': 0.6604245129164865}. Best is trial 79 with value: -0.9999980699333518.\n",
      "[I 2025-09-10 10:30:57,266] Trial 99 finished with value: -0.9565438304860793 and parameters: {'x': 0.7029080944823131}. Best is trial 79 with value: -0.9999980699333518.\n"
     ]
    },
    {
     "data": {
      "application/vnd.plotly.v1+json": {
       "config": {
        "plotlyServerURL": "https://plot.ly"
       },
       "data": [
        {
         "mode": "markers",
         "name": "Objective Value",
         "type": "scatter",
         "x": [
          0,
          1,
          2,
          3,
          4,
          5,
          6,
          7,
          8,
          9,
          10,
          11,
          12,
          13,
          14,
          15,
          16,
          17,
          18,
          19,
          20,
          21,
          22,
          23,
          24,
          25,
          26,
          27,
          28,
          29,
          30,
          31,
          32,
          33,
          34,
          35,
          36,
          37,
          38,
          39,
          40,
          41,
          42,
          43,
          44,
          45,
          46,
          47,
          48,
          49,
          50,
          51,
          52,
          53,
          54,
          55,
          56,
          57,
          58,
          59,
          60,
          61,
          62,
          63,
          64,
          65,
          66,
          67,
          68,
          69,
          70,
          71,
          72,
          73,
          74,
          75,
          76,
          77,
          78,
          79,
          80,
          81,
          82,
          83,
          84,
          85,
          86,
          87,
          88,
          89,
          90,
          91,
          92,
          93,
          94,
          95,
          96,
          97,
          98,
          99
         ],
         "y": [
          0.32026818818546604,
          -0.6521131377406146,
          0.9878963993408141,
          0.7638077818071426,
          0.7731692234575821,
          0.5538641172893762,
          0.8987711555403413,
          0.9283411264297504,
          -0.5574507912873278,
          -0.2997566411861223,
          -0.9433676978728305,
          -0.90820970153673,
          -0.899513124991443,
          -0.9999345125055747,
          -0.9479774927581525,
          -0.9129389295102371,
          0.0015929738752243898,
          -0.876156604494057,
          -0.33223211120222557,
          -0.011268522692386266,
          -0.9261169505505101,
          -0.9630930394297122,
          -0.9999088829160963,
          -0.24654546320901444,
          -0.9750215672983018,
          -0.6819539318985881,
          -0.9993598248580479,
          -0.6340786044388499,
          -0.6425561428368602,
          -0.9999882794053463,
          0.16913673975940957,
          -0.991042258963299,
          -0.9985508702113151,
          -0.6372141695563198,
          -0.2960478981967636,
          -0.7440471006894651,
          -0.9960462611364793,
          -0.8196509362448228,
          -0.31678870756507127,
          -0.8277823648382575,
          -0.996435643681585,
          -0.9932347800397041,
          -0.9986437003935171,
          -0.4787939840582987,
          0.39901614916427053,
          -0.7972090746058308,
          -0.37367267657523207,
          -0.8399698438870197,
          0.9334931530228342,
          -0.0062019129786834905,
          -0.9899891381961666,
          -0.9827797316425528,
          -0.9991132918429944,
          -0.9353734822280056,
          -0.9456048028198083,
          -0.8165052955838368,
          -0.02892329898723718,
          -0.9845369931779419,
          -0.6771709812284511,
          -0.942357858812353,
          0.7885037221476201,
          -0.9997374519846379,
          -0.8863064107235585,
          -0.5058713112489867,
          -0.9951052983910684,
          -0.799589763357599,
          -0.48432564491856184,
          -0.9468080027423142,
          -0.8639397134771643,
          -0.966462658539525,
          -0.9999460249868602,
          -0.9999935280664228,
          -0.7284705942124492,
          -0.9999683154031125,
          -0.9522880334931427,
          -0.9830538761608594,
          -0.9169710616203295,
          -0.8966414463123396,
          -0.7945659856619317,
          -0.9999980699333518,
          -0.9700711340071221,
          -0.9979961970647726,
          -0.9994431220563238,
          -0.9899590501707898,
          -0.9633241767610736,
          -0.9998227662501912,
          -0.8931477354421381,
          -0.878745310904877,
          -0.755840578815021,
          -0.5975357520393992,
          -0.7629018189890202,
          -0.9999327587631023,
          -0.9752743228138199,
          -0.9998805125836318,
          -0.921073713924162,
          -0.5827813925322803,
          -0.9845931791516288,
          -0.9925694808027774,
          -0.8457541275738754,
          -0.9565438304860793
         ]
        },
        {
         "mode": "lines",
         "name": "Best Value",
         "type": "scatter",
         "x": [
          0,
          1,
          2,
          3,
          4,
          5,
          6,
          7,
          8,
          9,
          10,
          11,
          12,
          13,
          14,
          15,
          16,
          17,
          18,
          19,
          20,
          21,
          22,
          23,
          24,
          25,
          26,
          27,
          28,
          29,
          30,
          31,
          32,
          33,
          34,
          35,
          36,
          37,
          38,
          39,
          40,
          41,
          42,
          43,
          44,
          45,
          46,
          47,
          48,
          49,
          50,
          51,
          52,
          53,
          54,
          55,
          56,
          57,
          58,
          59,
          60,
          61,
          62,
          63,
          64,
          65,
          66,
          67,
          68,
          69,
          70,
          71,
          72,
          73,
          74,
          75,
          76,
          77,
          78,
          79,
          80,
          81,
          82,
          83,
          84,
          85,
          86,
          87,
          88,
          89,
          90,
          91,
          92,
          93,
          94,
          95,
          96,
          97,
          98,
          99
         ],
         "y": [
          0.32026818818546604,
          -0.6521131377406146,
          -0.6521131377406146,
          -0.6521131377406146,
          -0.6521131377406146,
          -0.6521131377406146,
          -0.6521131377406146,
          -0.6521131377406146,
          -0.6521131377406146,
          -0.6521131377406146,
          -0.9433676978728305,
          -0.9433676978728305,
          -0.9433676978728305,
          -0.9999345125055747,
          -0.9999345125055747,
          -0.9999345125055747,
          -0.9999345125055747,
          -0.9999345125055747,
          -0.9999345125055747,
          -0.9999345125055747,
          -0.9999345125055747,
          -0.9999345125055747,
          -0.9999345125055747,
          -0.9999345125055747,
          -0.9999345125055747,
          -0.9999345125055747,
          -0.9999345125055747,
          -0.9999345125055747,
          -0.9999345125055747,
          -0.9999882794053463,
          -0.9999882794053463,
          -0.9999882794053463,
          -0.9999882794053463,
          -0.9999882794053463,
          -0.9999882794053463,
          -0.9999882794053463,
          -0.9999882794053463,
          -0.9999882794053463,
          -0.9999882794053463,
          -0.9999882794053463,
          -0.9999882794053463,
          -0.9999882794053463,
          -0.9999882794053463,
          -0.9999882794053463,
          -0.9999882794053463,
          -0.9999882794053463,
          -0.9999882794053463,
          -0.9999882794053463,
          -0.9999882794053463,
          -0.9999882794053463,
          -0.9999882794053463,
          -0.9999882794053463,
          -0.9999882794053463,
          -0.9999882794053463,
          -0.9999882794053463,
          -0.9999882794053463,
          -0.9999882794053463,
          -0.9999882794053463,
          -0.9999882794053463,
          -0.9999882794053463,
          -0.9999882794053463,
          -0.9999882794053463,
          -0.9999882794053463,
          -0.9999882794053463,
          -0.9999882794053463,
          -0.9999882794053463,
          -0.9999882794053463,
          -0.9999882794053463,
          -0.9999882794053463,
          -0.9999882794053463,
          -0.9999882794053463,
          -0.9999935280664228,
          -0.9999935280664228,
          -0.9999935280664228,
          -0.9999935280664228,
          -0.9999935280664228,
          -0.9999935280664228,
          -0.9999935280664228,
          -0.9999935280664228,
          -0.9999980699333518,
          -0.9999980699333518,
          -0.9999980699333518,
          -0.9999980699333518,
          -0.9999980699333518,
          -0.9999980699333518,
          -0.9999980699333518,
          -0.9999980699333518,
          -0.9999980699333518,
          -0.9999980699333518,
          -0.9999980699333518,
          -0.9999980699333518,
          -0.9999980699333518,
          -0.9999980699333518,
          -0.9999980699333518,
          -0.9999980699333518,
          -0.9999980699333518,
          -0.9999980699333518,
          -0.9999980699333518,
          -0.9999980699333518,
          -0.9999980699333518
         ]
        },
        {
         "marker": {
          "color": "#cccccc"
         },
         "mode": "markers",
         "name": "Infeasible Trial",
         "showlegend": false,
         "type": "scatter",
         "x": [],
         "y": []
        }
       ],
       "layout": {
        "template": {
         "data": {
          "bar": [
           {
            "error_x": {
             "color": "#2a3f5f"
            },
            "error_y": {
             "color": "#2a3f5f"
            },
            "marker": {
             "line": {
              "color": "#E5ECF6",
              "width": 0.5
             },
             "pattern": {
              "fillmode": "overlay",
              "size": 10,
              "solidity": 0.2
             }
            },
            "type": "bar"
           }
          ],
          "barpolar": [
           {
            "marker": {
             "line": {
              "color": "#E5ECF6",
              "width": 0.5
             },
             "pattern": {
              "fillmode": "overlay",
              "size": 10,
              "solidity": 0.2
             }
            },
            "type": "barpolar"
           }
          ],
          "carpet": [
           {
            "aaxis": {
             "endlinecolor": "#2a3f5f",
             "gridcolor": "white",
             "linecolor": "white",
             "minorgridcolor": "white",
             "startlinecolor": "#2a3f5f"
            },
            "baxis": {
             "endlinecolor": "#2a3f5f",
             "gridcolor": "white",
             "linecolor": "white",
             "minorgridcolor": "white",
             "startlinecolor": "#2a3f5f"
            },
            "type": "carpet"
           }
          ],
          "choropleth": [
           {
            "colorbar": {
             "outlinewidth": 0,
             "ticks": ""
            },
            "type": "choropleth"
           }
          ],
          "contour": [
           {
            "colorbar": {
             "outlinewidth": 0,
             "ticks": ""
            },
            "colorscale": [
             [
              0,
              "#0d0887"
             ],
             [
              0.1111111111111111,
              "#46039f"
             ],
             [
              0.2222222222222222,
              "#7201a8"
             ],
             [
              0.3333333333333333,
              "#9c179e"
             ],
             [
              0.4444444444444444,
              "#bd3786"
             ],
             [
              0.5555555555555556,
              "#d8576b"
             ],
             [
              0.6666666666666666,
              "#ed7953"
             ],
             [
              0.7777777777777778,
              "#fb9f3a"
             ],
             [
              0.8888888888888888,
              "#fdca26"
             ],
             [
              1,
              "#f0f921"
             ]
            ],
            "type": "contour"
           }
          ],
          "contourcarpet": [
           {
            "colorbar": {
             "outlinewidth": 0,
             "ticks": ""
            },
            "type": "contourcarpet"
           }
          ],
          "heatmap": [
           {
            "colorbar": {
             "outlinewidth": 0,
             "ticks": ""
            },
            "colorscale": [
             [
              0,
              "#0d0887"
             ],
             [
              0.1111111111111111,
              "#46039f"
             ],
             [
              0.2222222222222222,
              "#7201a8"
             ],
             [
              0.3333333333333333,
              "#9c179e"
             ],
             [
              0.4444444444444444,
              "#bd3786"
             ],
             [
              0.5555555555555556,
              "#d8576b"
             ],
             [
              0.6666666666666666,
              "#ed7953"
             ],
             [
              0.7777777777777778,
              "#fb9f3a"
             ],
             [
              0.8888888888888888,
              "#fdca26"
             ],
             [
              1,
              "#f0f921"
             ]
            ],
            "type": "heatmap"
           }
          ],
          "histogram": [
           {
            "marker": {
             "pattern": {
              "fillmode": "overlay",
              "size": 10,
              "solidity": 0.2
             }
            },
            "type": "histogram"
           }
          ],
          "histogram2d": [
           {
            "colorbar": {
             "outlinewidth": 0,
             "ticks": ""
            },
            "colorscale": [
             [
              0,
              "#0d0887"
             ],
             [
              0.1111111111111111,
              "#46039f"
             ],
             [
              0.2222222222222222,
              "#7201a8"
             ],
             [
              0.3333333333333333,
              "#9c179e"
             ],
             [
              0.4444444444444444,
              "#bd3786"
             ],
             [
              0.5555555555555556,
              "#d8576b"
             ],
             [
              0.6666666666666666,
              "#ed7953"
             ],
             [
              0.7777777777777778,
              "#fb9f3a"
             ],
             [
              0.8888888888888888,
              "#fdca26"
             ],
             [
              1,
              "#f0f921"
             ]
            ],
            "type": "histogram2d"
           }
          ],
          "histogram2dcontour": [
           {
            "colorbar": {
             "outlinewidth": 0,
             "ticks": ""
            },
            "colorscale": [
             [
              0,
              "#0d0887"
             ],
             [
              0.1111111111111111,
              "#46039f"
             ],
             [
              0.2222222222222222,
              "#7201a8"
             ],
             [
              0.3333333333333333,
              "#9c179e"
             ],
             [
              0.4444444444444444,
              "#bd3786"
             ],
             [
              0.5555555555555556,
              "#d8576b"
             ],
             [
              0.6666666666666666,
              "#ed7953"
             ],
             [
              0.7777777777777778,
              "#fb9f3a"
             ],
             [
              0.8888888888888888,
              "#fdca26"
             ],
             [
              1,
              "#f0f921"
             ]
            ],
            "type": "histogram2dcontour"
           }
          ],
          "mesh3d": [
           {
            "colorbar": {
             "outlinewidth": 0,
             "ticks": ""
            },
            "type": "mesh3d"
           }
          ],
          "parcoords": [
           {
            "line": {
             "colorbar": {
              "outlinewidth": 0,
              "ticks": ""
             }
            },
            "type": "parcoords"
           }
          ],
          "pie": [
           {
            "automargin": true,
            "type": "pie"
           }
          ],
          "scatter": [
           {
            "fillpattern": {
             "fillmode": "overlay",
             "size": 10,
             "solidity": 0.2
            },
            "type": "scatter"
           }
          ],
          "scatter3d": [
           {
            "line": {
             "colorbar": {
              "outlinewidth": 0,
              "ticks": ""
             }
            },
            "marker": {
             "colorbar": {
              "outlinewidth": 0,
              "ticks": ""
             }
            },
            "type": "scatter3d"
           }
          ],
          "scattercarpet": [
           {
            "marker": {
             "colorbar": {
              "outlinewidth": 0,
              "ticks": ""
             }
            },
            "type": "scattercarpet"
           }
          ],
          "scattergeo": [
           {
            "marker": {
             "colorbar": {
              "outlinewidth": 0,
              "ticks": ""
             }
            },
            "type": "scattergeo"
           }
          ],
          "scattergl": [
           {
            "marker": {
             "colorbar": {
              "outlinewidth": 0,
              "ticks": ""
             }
            },
            "type": "scattergl"
           }
          ],
          "scattermap": [
           {
            "marker": {
             "colorbar": {
              "outlinewidth": 0,
              "ticks": ""
             }
            },
            "type": "scattermap"
           }
          ],
          "scattermapbox": [
           {
            "marker": {
             "colorbar": {
              "outlinewidth": 0,
              "ticks": ""
             }
            },
            "type": "scattermapbox"
           }
          ],
          "scatterpolar": [
           {
            "marker": {
             "colorbar": {
              "outlinewidth": 0,
              "ticks": ""
             }
            },
            "type": "scatterpolar"
           }
          ],
          "scatterpolargl": [
           {
            "marker": {
             "colorbar": {
              "outlinewidth": 0,
              "ticks": ""
             }
            },
            "type": "scatterpolargl"
           }
          ],
          "scatterternary": [
           {
            "marker": {
             "colorbar": {
              "outlinewidth": 0,
              "ticks": ""
             }
            },
            "type": "scatterternary"
           }
          ],
          "surface": [
           {
            "colorbar": {
             "outlinewidth": 0,
             "ticks": ""
            },
            "colorscale": [
             [
              0,
              "#0d0887"
             ],
             [
              0.1111111111111111,
              "#46039f"
             ],
             [
              0.2222222222222222,
              "#7201a8"
             ],
             [
              0.3333333333333333,
              "#9c179e"
             ],
             [
              0.4444444444444444,
              "#bd3786"
             ],
             [
              0.5555555555555556,
              "#d8576b"
             ],
             [
              0.6666666666666666,
              "#ed7953"
             ],
             [
              0.7777777777777778,
              "#fb9f3a"
             ],
             [
              0.8888888888888888,
              "#fdca26"
             ],
             [
              1,
              "#f0f921"
             ]
            ],
            "type": "surface"
           }
          ],
          "table": [
           {
            "cells": {
             "fill": {
              "color": "#EBF0F8"
             },
             "line": {
              "color": "white"
             }
            },
            "header": {
             "fill": {
              "color": "#C8D4E3"
             },
             "line": {
              "color": "white"
             }
            },
            "type": "table"
           }
          ]
         },
         "layout": {
          "annotationdefaults": {
           "arrowcolor": "#2a3f5f",
           "arrowhead": 0,
           "arrowwidth": 1
          },
          "autotypenumbers": "strict",
          "coloraxis": {
           "colorbar": {
            "outlinewidth": 0,
            "ticks": ""
           }
          },
          "colorscale": {
           "diverging": [
            [
             0,
             "#8e0152"
            ],
            [
             0.1,
             "#c51b7d"
            ],
            [
             0.2,
             "#de77ae"
            ],
            [
             0.3,
             "#f1b6da"
            ],
            [
             0.4,
             "#fde0ef"
            ],
            [
             0.5,
             "#f7f7f7"
            ],
            [
             0.6,
             "#e6f5d0"
            ],
            [
             0.7,
             "#b8e186"
            ],
            [
             0.8,
             "#7fbc41"
            ],
            [
             0.9,
             "#4d9221"
            ],
            [
             1,
             "#276419"
            ]
           ],
           "sequential": [
            [
             0,
             "#0d0887"
            ],
            [
             0.1111111111111111,
             "#46039f"
            ],
            [
             0.2222222222222222,
             "#7201a8"
            ],
            [
             0.3333333333333333,
             "#9c179e"
            ],
            [
             0.4444444444444444,
             "#bd3786"
            ],
            [
             0.5555555555555556,
             "#d8576b"
            ],
            [
             0.6666666666666666,
             "#ed7953"
            ],
            [
             0.7777777777777778,
             "#fb9f3a"
            ],
            [
             0.8888888888888888,
             "#fdca26"
            ],
            [
             1,
             "#f0f921"
            ]
           ],
           "sequentialminus": [
            [
             0,
             "#0d0887"
            ],
            [
             0.1111111111111111,
             "#46039f"
            ],
            [
             0.2222222222222222,
             "#7201a8"
            ],
            [
             0.3333333333333333,
             "#9c179e"
            ],
            [
             0.4444444444444444,
             "#bd3786"
            ],
            [
             0.5555555555555556,
             "#d8576b"
            ],
            [
             0.6666666666666666,
             "#ed7953"
            ],
            [
             0.7777777777777778,
             "#fb9f3a"
            ],
            [
             0.8888888888888888,
             "#fdca26"
            ],
            [
             1,
             "#f0f921"
            ]
           ]
          },
          "colorway": [
           "#636efa",
           "#EF553B",
           "#00cc96",
           "#ab63fa",
           "#FFA15A",
           "#19d3f3",
           "#FF6692",
           "#B6E880",
           "#FF97FF",
           "#FECB52"
          ],
          "font": {
           "color": "#2a3f5f"
          },
          "geo": {
           "bgcolor": "white",
           "lakecolor": "white",
           "landcolor": "#E5ECF6",
           "showlakes": true,
           "showland": true,
           "subunitcolor": "white"
          },
          "hoverlabel": {
           "align": "left"
          },
          "hovermode": "closest",
          "mapbox": {
           "style": "light"
          },
          "paper_bgcolor": "white",
          "plot_bgcolor": "#E5ECF6",
          "polar": {
           "angularaxis": {
            "gridcolor": "white",
            "linecolor": "white",
            "ticks": ""
           },
           "bgcolor": "#E5ECF6",
           "radialaxis": {
            "gridcolor": "white",
            "linecolor": "white",
            "ticks": ""
           }
          },
          "scene": {
           "xaxis": {
            "backgroundcolor": "#E5ECF6",
            "gridcolor": "white",
            "gridwidth": 2,
            "linecolor": "white",
            "showbackground": true,
            "ticks": "",
            "zerolinecolor": "white"
           },
           "yaxis": {
            "backgroundcolor": "#E5ECF6",
            "gridcolor": "white",
            "gridwidth": 2,
            "linecolor": "white",
            "showbackground": true,
            "ticks": "",
            "zerolinecolor": "white"
           },
           "zaxis": {
            "backgroundcolor": "#E5ECF6",
            "gridcolor": "white",
            "gridwidth": 2,
            "linecolor": "white",
            "showbackground": true,
            "ticks": "",
            "zerolinecolor": "white"
           }
          },
          "shapedefaults": {
           "line": {
            "color": "#2a3f5f"
           }
          },
          "ternary": {
           "aaxis": {
            "gridcolor": "white",
            "linecolor": "white",
            "ticks": ""
           },
           "baxis": {
            "gridcolor": "white",
            "linecolor": "white",
            "ticks": ""
           },
           "bgcolor": "#E5ECF6",
           "caxis": {
            "gridcolor": "white",
            "linecolor": "white",
            "ticks": ""
           }
          },
          "title": {
           "x": 0.05
          },
          "xaxis": {
           "automargin": true,
           "gridcolor": "white",
           "linecolor": "white",
           "ticks": "",
           "title": {
            "standoff": 15
           },
           "zerolinecolor": "white",
           "zerolinewidth": 2
          },
          "yaxis": {
           "automargin": true,
           "gridcolor": "white",
           "linecolor": "white",
           "ticks": "",
           "title": {
            "standoff": 15
           },
           "zerolinecolor": "white",
           "zerolinewidth": 2
          }
         }
        },
        "title": {
         "text": "Optimization History Plot"
        },
        "xaxis": {
         "title": {
          "text": "Trial"
         }
        },
        "yaxis": {
         "title": {
          "text": "Objective Value"
         }
        }
       }
      }
     },
     "metadata": {},
     "output_type": "display_data"
    }
   ],
   "source": [
    "study.optimize(objectif, n_trials=100)\n",
    "optuna.visualization.plot_optimization_history(study).show()"
   ]
  },
  {
   "cell_type": "code",
   "execution_count": null,
   "id": "9d2d14d1",
   "metadata": {},
   "outputs": [],
   "source": []
  },
  {
   "cell_type": "code",
   "execution_count": null,
   "id": "7a41c093",
   "metadata": {},
   "outputs": [],
   "source": []
  },
  {
   "cell_type": "code",
   "execution_count": null,
   "id": "0ad69653",
   "metadata": {},
   "outputs": [],
   "source": []
  },
  {
   "cell_type": "code",
   "execution_count": null,
   "id": "ae194c51",
   "metadata": {},
   "outputs": [],
   "source": []
  }
 ],
 "metadata": {
  "kernelspec": {
   "display_name": "env",
   "language": "python",
   "name": "python3"
  },
  "language_info": {
   "codemirror_mode": {
    "name": "ipython",
    "version": 3
   },
   "file_extension": ".py",
   "mimetype": "text/x-python",
   "name": "python",
   "nbconvert_exporter": "python",
   "pygments_lexer": "ipython3",
   "version": "3.12.6"
  }
 },
 "nbformat": 4,
 "nbformat_minor": 5
}
